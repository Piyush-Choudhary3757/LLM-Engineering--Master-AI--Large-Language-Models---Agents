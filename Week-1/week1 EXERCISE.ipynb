{
 "cells": [
  {
   "cell_type": "markdown",
   "id": "fe12c203-e6a6-452c-a655-afb8a03a4ff5",
   "metadata": {},
   "source": [
    "# End of week 1 exercise\n",
    "\n",
    "To demonstrate your familiarity with OpenAI API, and also Ollama, build a tool that takes a technical question,  \n",
    "and responds with an explanation. This is a tool that you will be able to use yourself during the course!\n"
   ]
  },
  {
   "cell_type": "code",
   "execution_count": 13,
   "id": "c1070317-3ed9-4659-abe3-828943230e03",
   "metadata": {},
   "outputs": [],
   "source": [
    "# imports\n",
    "from dotenv import load_dotenv\n",
    "from IPython.display import Markdown, display, update_display\n",
    "from openai import OpenAI\n",
    "import ollama"
   ]
  },
  {
   "cell_type": "code",
   "execution_count": 14,
   "id": "4a456906-915a-4bfd-bb9d-57e505c5093f",
   "metadata": {},
   "outputs": [],
   "source": [
    "# constants\n",
    "\n",
    "MODEL_GPT = 'gpt-4o-mini'\n",
    "MODEL_LLAMA = 'llama3.2'"
   ]
  },
  {
   "cell_type": "code",
   "execution_count": 15,
   "id": "a8d7923c-5f28-4c30-8556-342d7c8497c1",
   "metadata": {},
   "outputs": [],
   "source": [
    "# set up environment\n",
    "load_dotenv()\n",
    "openai = OpenAI()\n"
   ]
  },
  {
   "cell_type": "code",
   "execution_count": 16,
   "id": "3f0d0137-52b0-47a8-81a8-11a90a010798",
   "metadata": {},
   "outputs": [],
   "source": [
    "# here is the question; type over this to ask something new\n",
    "\n",
    "question = \"\"\"\n",
    "Please explain what this code does and why:\n",
    "yield from {book.get(\"author\") for book in books if book.get(\"author\")}\n",
    "\"\"\""
   ]
  },
  {
   "cell_type": "code",
   "execution_count": null,
   "id": "f05d7fac",
   "metadata": {},
   "outputs": [],
   "source": [
    "# prompts\n",
    "\n",
    "system_prompt = \"You are a helpful technical tutor who answers questions about python code, software engineering, data science and LLMs\"\n",
    "user_prompt = \"Please give a detailed explanation to the following question: \" + question"
   ]
  },
  {
   "cell_type": "code",
   "execution_count": 20,
   "id": "9aed9c8d",
   "metadata": {},
   "outputs": [],
   "source": [
    "# messages\n",
    "\n",
    "messages = [\n",
    "    {\"role\": \"system\", \"content\": system_prompt},\n",
    "    {\"role\": \"user\", \"content\": user_prompt}\n",
    "]"
   ]
  },
  {
   "cell_type": "code",
   "execution_count": 31,
   "id": "609803eb",
   "metadata": {},
   "outputs": [
    {
     "data": {
      "text/markdown": [
       "Certainly! Let's break down the code snippet you provided: \n",
       "\n",
       "python\n",
       "yield from {book.get(\"author\") for book in books if book.get(\"author\")}\n",
       "\n",
       "\n",
       "### Explanation\n",
       "\n",
       "1. **Context of `yield from`:**\n",
       "   - The `yield from` expression is used in Python generators to delegate part of the generator's operations to another iterable. It is an efficient way to yield values from another iterable, allowing you to simplify the generator's structure.\n",
       "\n",
       "2. **Set Comprehension:**\n",
       "   - The code uses a set comprehension, which is a concise way to create a set. The syntax for set comprehension is similar to list comprehension, but with curly braces `{}` instead of square brackets `[]`.\n",
       "   - `book.get(\"author\") for book in books if book.get(\"author\")` produces a set with values of the `author` key from each `book` dictionary in the `books` iterable. The `if book.get(\"author\")` condition filters out books where the author is `None` (or falsy).\n",
       "\n",
       "3. **Breaking it Down Further:**\n",
       "   - `for book in books`: This iterates over each `book` in the iterable `books`.\n",
       "   - `book.get(\"author\")`: This retrieves the value associated with the key `\"author\"` from the `book` dictionary. If the key doesn’t exist or the value is `None`, it returns `None`.\n",
       "   - `if book.get(\"author\")`: This condition checks if the author exists (i.e., is not `None`). If `None`, that `book` will not contribute an author to the set.\n",
       "   - `{...}`: The curly braces around the expression create a set, which only contains unique author names (if any).\n",
       "\n",
       "4. **Combining Everything:**\n",
       "   - Overall, the expression generates a set of unique author names from the `books` iterable, ignoring any books that do not have an author listed.\n",
       "   - The `yield from` then yields each unique author name one by one, allowing the caller of the generator to receive each author in succession.\n",
       "\n",
       "### Why Use This Code?\n",
       "\n",
       "- **Uniqueness**: By using a set comprehension, the code automatically handles duplicates. If the same author appears in multiple books, that author will only be yielded once.\n",
       "- **Simplicity**: Using `yield from` with a generator simplifies the process of yielding items from an iterable (in this case, the unique authors).\n",
       "- **Readability**: The code is quite readable for those familiar with Python comprehensions and generators, making it easier to understand the intent (extracting unique authors).\n",
       "\n",
       "### Summary\n",
       "\n",
       "In summary, the provided code snippet creates a generator that will yield unique author names from a collection of `books`, ignoring any entries that do not contain an author. It effectively combines set comprehension for uniqueness and `yield from` for clean, efficient yielding in a generator function."
      ],
      "text/plain": [
       "<IPython.core.display.Markdown object>"
      ]
     },
     "metadata": {},
     "output_type": "display_data"
    }
   ],
   "source": [
    "stream = openai.chat.completions.create(model=MODEL_GPT, messages=messages,stream=True)\n",
    "    \n",
    "response = \"\"\n",
    "display_handle = display(Markdown(\"\"), display_id=True)\n",
    "for chunk in stream:\n",
    "    response += chunk.choices[0].delta.content or ''\n",
    "    response = response.replace(\"```\",\"\").replace(\"markdown\", \"\")\n",
    "    update_display(Markdown(response), display_id=display_handle.display_id)"
   ]
  },
  {
   "cell_type": "code",
   "execution_count": 32,
   "id": "8f7c8ea8-4082-4ad0-8751-3301adcf6538",
   "metadata": {},
   "outputs": [
    {
     "data": {
      "text/markdown": [
       "Let's break down this line of code:\n",
       "\n",
       "```python\n",
       "yield from {book.get(\"author\") for book in books if book.get(\"author\")}\n",
       "```\n",
       "\n",
       "This is a combination of several advanced Python features, so let's go through them step by step.\n",
       "\n",
       "1. **List Comprehension**: `{book.get(\"author\") for book in books if book.get(\"author\")}`\n",
       "\n",
       "   This part creates an iterator that yields the author names from the `books` dictionary.\n",
       "\n",
       "   - The `.get()` method is called on each item (`book`) in the `books` dictionary.\n",
       "   - If a key exists and its value can be accessed without raising a KeyError, the corresponding author name is yielded.\n",
       "   - If the key does not exist or its value cannot be accessed, it's skipped.\n",
       "\n",
       "2. **Yield from**: The `{...}` part is an iterator expression that can be used with the `yield from` statement.\n",
       "\n",
       "   - When you see `yield from`, Python knows to delegate to another generator (in this case) and yield each of its yielded values.\n",
       "   - This allows you to \"flatten\" a nested structure into an iterable sequence.\n",
       "\n",
       "3. **Generator Expression**: `{book.get(\"author\") for book in books if book.get(\"author\")}` is a generator expression, which is similar to a list comprehension but returns a generator instead of a list.\n",
       "\n",
       "So, putting it all together:\n",
       "\n",
       "- The entire line of code iterates over the `books` dictionary.\n",
       "- For each item (`book`) in the dictionary:\n",
       "  - If the item has a key with the name `\"author\"` and that value can be accessed without raising an error: its author name is yielded.\n",
       "  - If not, or if it's missing altogether: it's skipped.\n",
       "\n",
       "**Example Use Case**\n",
       "\n",
       "Suppose you have a `books` dictionary containing book data:\n",
       "```python\n",
       "books = {\n",
       "    \"book1\": {\"title\": \"Python Programming\", \"author\": \"John Doe\"},\n",
       "    \"book2\": {\"title\": \"Data Science with Python\", \"author\": None},\n",
       "    \"book3\": {\"title\": \"Introduction to Data Science\", \"author\": \"Jane Smith\"}\n",
       "}\n",
       "```\n",
       "\n",
       "The code would then yield the following author names:\n",
       "```python\n",
       "['John Doe', 'Jane Smith']\n",
       "```\n",
       "Notice that `book2` has an `\"author\"` key, but its value is None (because it's missing). This one gets skipped.\n",
       "\n",
       "**Why Use a Generator Expression?**\n",
       "\n",
       "Using a generator expression here can be beneficial because it avoids creating unnecessary intermediate data structures like lists. It returns values on the fly, which can be more memory-efficient for large datasets.\n",
       "\n",
       "However, this comes with the trade-off of not being able to iterate over the entire sequence at once and instead having to process it one value at a time using `for` loop or similar constructs."
      ],
      "text/plain": [
       "<IPython.core.display.Markdown object>"
      ]
     },
     "metadata": {},
     "output_type": "display_data"
    }
   ],
   "source": [
    "# Get Llama 3.2 to answer\n",
    "response = ollama.chat(model=MODEL_LLAMA, messages=messages)\n",
    "reply = response['message']['content']\n",
    "display(Markdown(reply))"
   ]
  }
 ],
 "metadata": {
  "kernelspec": {
   "display_name": "Python 3",
   "language": "python",
   "name": "python3"
  },
  "language_info": {
   "codemirror_mode": {
    "name": "ipython",
    "version": 3
   },
   "file_extension": ".py",
   "mimetype": "text/x-python",
   "name": "python",
   "nbconvert_exporter": "python",
   "pygments_lexer": "ipython3",
   "version": "3.10.11"
  }
 },
 "nbformat": 4,
 "nbformat_minor": 5
}
